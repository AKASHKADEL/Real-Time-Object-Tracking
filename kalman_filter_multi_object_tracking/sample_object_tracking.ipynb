{
 "cells": [
  {
   "cell_type": "code",
   "execution_count": 1,
   "metadata": {
    "collapsed": true
   },
   "outputs": [],
   "source": [
    "import numpy as np\n",
    "import cv2\n",
    "from math import cos, sin, sqrt\n",
    "import sys\n",
    "from pykalman import KalmanFilter\n",
    "import matplotlib.pyplot as plt"
   ]
  },
  {
   "cell_type": "code",
   "execution_count": 14,
   "metadata": {
    "collapsed": false
   },
   "outputs": [],
   "source": [
    "cap = cv2.VideoCapture('../sample video data/Walk1.mpg')\n",
    "\n",
    "fgbg = cv2.createBackgroundSubtractorMOG2()\n",
    "while(1):\n",
    "    ret, frame = cap.read()\n",
    "    fgmask = fgbg.apply(frame)\n",
    "    cv2.imshow('frame',fgmask)\n",
    "    k = cv2.waitKey(30) & 0xff\n",
    "    if k == 27:\n",
    "        break\n",
    "cap.release()\n",
    "cv2.destroyAllWindows()"
   ]
  },
  {
   "cell_type": "code",
   "execution_count": 14,
   "metadata": {
    "collapsed": false
   },
   "outputs": [],
   "source": [
    "import numpy as np\n",
    "import cv2\n",
    "\n",
    "\n",
    "class BackGroundSubtractor:\n",
    "    # When constructing background subtractor, we\n",
    "    # take in two arguments:\n",
    "    # 1) alpha: The background learning factor, its value should\n",
    "    # be between 0 and 1. The higher the value, the more quickly\n",
    "    # your program learns the changes in the background. Therefore, \n",
    "    # for a static background use a lower value, like 0.001. But if \n",
    "    # your background has moving trees and stuff, use a higher value,\n",
    "    # maybe start with 0.01.\n",
    "    # 2) firstFrame: This is the first frame from the video/webcam.\n",
    "    def __init__(self,alpha,firstFrame):\n",
    "        self.alpha  = alpha\n",
    "        self.backGroundModel = firstFrame\n",
    "\n",
    "    def getForeground(self,frame):\n",
    "        # apply the background averaging formula:\n",
    "        # NEW_BACKGROUND = CURRENT_FRAME * ALPHA + OLD_BACKGROUND * (1 - APLHA)\n",
    "        self.backGroundModel =  frame * self.alpha + self.backGroundModel * (1 - self.alpha)\n",
    "\n",
    "        # after the previous operation, the dtype of\n",
    "        # self.backGroundModel will be changed to a float type\n",
    "        # therefore we do not pass it to cv2.absdiff directly,\n",
    "        # instead we acquire a copy of it in the uint8 dtype\n",
    "        # and pass that to absdiff.\n",
    "\n",
    "        return cv2.absdiff(self.backGroundModel.astype(np.uint8),frame)\n",
    "\n",
    "#cam = cv2.VideoCapture(0)\n",
    "cam = cv2.VideoCapture('../sample video data/Walk1.mpg')\n",
    "# Just a simple function to perform\n",
    "# some filtering before any further processing.\n",
    "def denoise(frame):\n",
    "    frame = cv2.medianBlur(frame,5)\n",
    "    frame = cv2.GaussianBlur(frame,(5,5),0)\n",
    "    \n",
    "    return frame\n",
    "\n",
    "ret,frame = cam.read()\n",
    "num_frames = cam.get(7)\n",
    "if ret is True:\n",
    "    backSubtractor = BackGroundSubtractor(0.01,denoise(frame))\n",
    "    run = True\n",
    "else:\n",
    "    run = False\n",
    "\n",
    "while(run):\n",
    "    # Read a frame from the camera\n",
    "    ret,frame = cam.read()\n",
    "    \n",
    "    # If the frame was properly read.\n",
    "    if ret is True:\n",
    "        # Show the filtered image\n",
    "        cv2.imshow('input',denoise(frame))\n",
    "\n",
    "        # get the foreground\n",
    "        foreGround = backSubtractor.getForeground(denoise(frame))\n",
    "\n",
    "        # Apply thresholding on the background and display the resulting mask\n",
    "        ret, mask = cv2.threshold(foreGround, 15, 255, cv2.THRESH_BINARY)\n",
    "\n",
    "        # Note: The mask is displayed as a RGB image, you can\n",
    "        # display a grayscale image by converting 'foreGround' to\n",
    "        # a grayscale before applying the threshold.\n",
    "        cv2.imshow('mask',mask)\n",
    "\n",
    "        key = cv2.waitKey(10) & 0xFF\n",
    "    else:\n",
    "        break\n",
    "\n",
    "    if key == 27:\n",
    "        break\n",
    "\n",
    "cam.release()\n",
    "cv2.destroyAllWindows()"
   ]
  },
  {
   "cell_type": "markdown",
   "metadata": {},
   "source": [
    "### Denoising an image opencv"
   ]
  },
  {
   "cell_type": "code",
   "execution_count": null,
   "metadata": {
    "collapsed": false
   },
   "outputs": [],
   "source": [
    "import matplotlib.pyplot as plt\n",
    "\n",
    "img = cv2.imread('die.png')\n",
    "plt.subplot(121),plt.imshow(img)\n",
    "dst = cv2.fastNlMeansDenoisingColored(img,None,10,10,7,21)\n",
    "plt.subplot(122),plt.imshow(dst)\n",
    "plt.show()"
   ]
  },
  {
   "cell_type": "markdown",
   "metadata": {},
   "source": [
    "### Sample Object detection"
   ]
  },
  {
   "cell_type": "code",
   "execution_count": 2,
   "metadata": {
    "collapsed": false
   },
   "outputs": [],
   "source": [
    "(major_ver, minor_ver, subminor_ver) = (cv2.__version__).split('.')\n",
    "\n",
    "if __name__ == '__main__' :\n",
    " \n",
    "    # Set up tracker.\n",
    "    # Instead of MIL, you can also use\n",
    " \n",
    "    tracker_types = ['BOOSTING', 'MIL','KCF', 'TLD', 'MEDIANFLOW', 'GOTURN']\n",
    "    tracker_type = tracker_types[2]\n",
    " \n",
    "    if int(minor_ver) < 3:\n",
    "        tracker = cv2.Tracker_create(tracker_type)\n",
    "    else:\n",
    "        if tracker_type == 'BOOSTING':\n",
    "            tracker = cv2.TrackerBoosting_create()\n",
    "        if tracker_type == 'MIL':\n",
    "            tracker = cv2.TrackerMIL_create()\n",
    "        if tracker_type == 'KCF':\n",
    "            tracker = cv2.TrackerKCF_create()\n",
    "        if tracker_type == 'TLD':\n",
    "            tracker = cv2.TrackerTLD_create()\n",
    "        if tracker_type == 'MEDIANFLOW':\n",
    "            tracker = cv2.TrackerMedianFlow_create()\n",
    "        if tracker_type == 'GOTURN':\n",
    "            tracker = cv2.TrackerGOTURN_create()\n",
    " \n",
    "    # Read video\n",
    "    video = cv2.VideoCapture(\"../sample video data/proper_video.mpg\")\n",
    " \n",
    "    # Exit if video not opened.\n",
    "    if not video.isOpened():\n",
    "        print(\"Could not open video\")\n",
    "        sys.exit()\n",
    " \n",
    "    # Read first frame.\n",
    "    ok, frame = video.read()\n",
    "    if not ok:\n",
    "        print('Cannot read video file')\n",
    "        sys.exit()\n",
    "     \n",
    "    # Define an initial bounding box\n",
    "    bbox = (287, 23, 86, 320)\n",
    " \n",
    "    # Uncomment the line below to select a different bounding box\n",
    "    bbox = cv2.selectROI(frame, False)\n",
    " \n",
    "    # Initialize tracker with first frame and bounding box\n",
    "    ok = tracker.init(frame, bbox)\n",
    " \n",
    "    while True:\n",
    "        # Read a new frame\n",
    "        ok, frame = video.read()\n",
    "        if not ok:\n",
    "            break\n",
    "         \n",
    "        # Start timer\n",
    "        timer = cv2.getTickCount()\n",
    " \n",
    "        # Update tracker\n",
    "        ok, bbox = tracker.update(frame)\n",
    " \n",
    "        # Calculate Frames per second (FPS)\n",
    "        fps = cv2.getTickFrequency() / (cv2.getTickCount() - timer);\n",
    " \n",
    "        # Draw bounding box\n",
    "        if ok:\n",
    "            # Tracking success\n",
    "            p1 = (int(bbox[0]), int(bbox[1]))\n",
    "            p2 = (int(bbox[0] + bbox[2]), int(bbox[1] + bbox[3]))\n",
    "            cv2.rectangle(frame, p1, p2, (255,0,0), 2, 1)\n",
    "        else :\n",
    "            # Tracking failure\n",
    "            cv2.putText(frame, \"Tracking failure detected\", (100,80), cv2.FONT_HERSHEY_SIMPLEX, 0.75,(0,0,255),2)\n",
    " \n",
    "        # Display tracker type on frame\n",
    "        cv2.putText(frame, tracker_type + \" Tracker\", (100,20), cv2.FONT_HERSHEY_SIMPLEX, 0.75, (50,170,50),2);\n",
    "     \n",
    "        # Display FPS on frame\n",
    "        cv2.putText(frame, \"FPS : \" + str(int(fps)), (100,50), cv2.FONT_HERSHEY_SIMPLEX, 0.75, (50,170,50), 2);\n",
    " \n",
    "        # Display result\n",
    "        cv2.imshow(\"Tracking\", frame)\n",
    " \n",
    "        # Exit if ESC pressed\n",
    "        k = cv2.waitKey(1) & 0xff\n",
    "        if k == 27 : break"
   ]
  },
  {
   "cell_type": "code",
   "execution_count": 9,
   "metadata": {
    "collapsed": true
   },
   "outputs": [],
   "source": [
    "img_height = 500\n",
    "img_width = 500\n",
    "kalman = cv2.KalmanFilter(2, 1, 0)\n",
    "\n",
    "code = long(-1)\n",
    "\n",
    "cv2.namedWindow(\"Kalman\")"
   ]
  },
  {
   "cell_type": "code",
   "execution_count": 2,
   "metadata": {
    "collapsed": true
   },
   "outputs": [],
   "source": [
    "PY3 = sys.version_info[0] == 3\n",
    "\n",
    "if PY3:\n",
    "    long = int\n",
    "\n",
    "if __name__ == \"__main__\":\n",
    "\n",
    "    img_height = 500\n",
    "    img_width = 500\n",
    "    kalman = cv2.KalmanFilter(2, 1, 0)\n",
    "\n",
    "    code = long(-1)\n",
    "\n",
    "    cv2.namedWindow(\"Kalman\")\n",
    "\n",
    "    while True:\n",
    "        state = 0.1 * np.random.randn(2, 1)\n",
    "\n",
    "        kalman.transitionMatrix = np.array([[1., 1.], [0., 1.]])\n",
    "        kalman.measurementMatrix = 1. * np.ones((1, 2))\n",
    "        kalman.processNoiseCov = 1e-5 * np.eye(2)\n",
    "        kalman.measurementNoiseCov = 1e-1 * np.ones((1, 1))\n",
    "        kalman.errorCovPost = 1. * np.ones((2, 2))\n",
    "        kalman.statePost = 0.1 * np.random.randn(2, 1)\n",
    "\n",
    "        while True:\n",
    "            def calc_point(angle):\n",
    "                return (np.around(img_width/2 + img_width/3*cos(angle), 0).astype(int),\n",
    "                        np.around(img_height/2 - img_width/3*sin(angle), 1).astype(int))\n",
    "\n",
    "            state_angle = state[0, 0]\n",
    "            state_pt = calc_point(state_angle)\n",
    "\n",
    "            prediction = kalman.predict()\n",
    "            predict_angle = prediction[0, 0]\n",
    "            predict_pt = calc_point(predict_angle)\n",
    "\n",
    "            measurement = kalman.measurementNoiseCov * np.random.randn(1, 1)\n",
    "\n",
    "            # generate measurement\n",
    "            measurement = np.dot(kalman.measurementMatrix, state) + measurement\n",
    "\n",
    "            measurement_angle = measurement[0, 0]\n",
    "            measurement_pt = calc_point(measurement_angle)\n",
    "\n",
    "            # plot points\n",
    "            def draw_cross(center, color, d):\n",
    "                cv2.line(img,\n",
    "                         (center[0] - d, center[1] - d), (center[0] + d, center[1] + d),\n",
    "                         color, 1, cv2.LINE_AA, 0)\n",
    "                cv2.line(img,\n",
    "                         (center[0] + d, center[1] - d), (center[0] - d, center[1] + d),\n",
    "                         color, 1, cv2.LINE_AA, 0)\n",
    "\n",
    "            img = np.zeros((img_height, img_width, 3), np.uint8)\n",
    "            draw_cross(np.int32(state_pt), (255, 255, 255), 3)\n",
    "            draw_cross(np.int32(measurement_pt), (0, 0, 255), 3)\n",
    "            draw_cross(np.int32(predict_pt), (0, 255, 0), 3)\n",
    "\n",
    "            cv2.line(img, state_pt, measurement_pt, (0, 0, 255), 3, cv2.LINE_AA, 0)\n",
    "            cv2.line(img, state_pt, predict_pt, (0, 255, 255), 3, cv2.LINE_AA, 0)\n",
    "\n",
    "            kalman.correct(measurement)\n",
    "\n",
    "            process_noise = sqrt(kalman.processNoiseCov[0,0]) * np.random.randn(2, 1)\n",
    "            state = np.dot(kalman.transitionMatrix, state) + process_noise\n",
    "\n",
    "            cv2.imshow(\"Kalman\", img)\n",
    "\n",
    "            code = cv2.waitKey(100)\n",
    "            if code != -1:\n",
    "                break\n",
    "\n",
    "        if code in [27, ord('q'), ord('Q')]:\n",
    "            break\n",
    "\n",
    "    cv2.destroyWindow(\"Kalman\")"
   ]
  },
  {
   "cell_type": "code",
   "execution_count": 3,
   "metadata": {
    "collapsed": false
   },
   "outputs": [
    {
     "name": "stdout",
     "output_type": "stream",
     "text": [
      "\t Number of Frames:  652.0\n"
     ]
    },
    {
     "data": {
      "text/plain": [
       "[0, 480, 360, 0]"
      ]
     },
     "execution_count": 3,
     "metadata": {},
     "output_type": "execute_result"
    }
   ],
   "source": [
    "file=\"../sample video data/proper_video.mpg\"\n",
    "capture = cv2.VideoCapture(file)\n",
    "numframes=capture.get(7)\n",
    "print(\"\\t Number of Frames: \",numframes)\n",
    "\n",
    "count=0\n",
    "history = 10\n",
    "nGauss = 3\n",
    "bgThresh = 0.6\n",
    "noise = 20\n",
    "bgs = cv2.createBackgroundSubtractorMOG2()\n",
    "#bgs = cv2.createBackgroundSubtractorMOG2(history,nGauss,bgThresh,noise)\n",
    "\n",
    "plt.figure()\n",
    "plt.hold(True)\n",
    "plt.axis([0,480,360,0])"
   ]
  },
  {
   "cell_type": "code",
   "execution_count": 4,
   "metadata": {
    "collapsed": false
   },
   "outputs": [
    {
     "name": "stdout",
     "output_type": "stream",
     "text": [
      "[[-1. -1.]\n",
      " [-1. -1.]\n",
      " [-1. -1.]\n",
      " ..., \n",
      " [-1. -1.]\n",
      " [-1. -1.]\n",
      " [-1. -1.]]\n"
     ]
    },
    {
     "data": {
      "image/png": "[encoded data removed]",
      "text/plain": [
       "<matplotlib.figure.Figure at 0x156f55ee828>"
      ]
     },
     "metadata": {},
     "output_type": "display_data"
    }
   ],
   "source": [
    "measuredTrack=np.zeros((int(numframes),2))-1\n",
    "while count<numframes-6:\n",
    "    count+=1\n",
    "    img2 = capture.read()[1]\n",
    "    cv2.imshow(\"Video\",img2)\n",
    "    foremat=bgs.apply(img2)\n",
    "    cv2.waitKey(10)\n",
    "    foremat=bgs.apply(img2)\n",
    "    ret,thresh = cv2.threshold(foremat,127,255,0)\n",
    "    _, contours, hierarchy, = cv2.findContours(thresh,cv2.RETR_TREE,cv2.CHAIN_APPROX_SIMPLE)\n",
    "    if len(contours) > 0:\n",
    "        m= np.mean(contours[0],axis=0)\n",
    "        measuredTrack[count-1,:]=m[0]\n",
    "        plt.plot(m[0,0],m[0,1],'ob')\n",
    "    cv2.imshow('Foreground',foremat)\n",
    "    cv2.waitKey(10)\n",
    "capture.release()\n",
    "print(measuredTrack)\n",
    "np.save(\"ballTrajectory\", measuredTrack)\n",
    "plt.show()"
   ]
  }
 ],
 "metadata": {
  "anaconda-cloud": {},
  "kernelspec": {
   "display_name": "Python 3",
   "language": "python",
   "name": "python3"
  },
  "language_info": {
   "codemirror_mode": {
    "name": "ipython",
    "version": 3
   },
   "file_extension": ".py",
   "mimetype": "text/x-python",
   "name": "python",
   "nbconvert_exporter": "python",
   "pygments_lexer": "ipython3",
   "version": "3.5.4"
  }
 },
 "nbformat": 4,
 "nbformat_minor": 1
}
